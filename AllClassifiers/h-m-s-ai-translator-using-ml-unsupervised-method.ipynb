{
 "cells": [
  {
   "cell_type": "markdown",
   "metadata": {},
   "source": [
    "<h2 style=\"text-align:center; color:#546545;text-shadow: 2px 2px 4px #000000;\"> A comparison of different classifiers’ accuracy & performance for prediction of emotional state EEG data</h2>"
   ]
  },
  {
   "cell_type": "markdown",
   "metadata": {},
   "source": [
    "<h2 style=\"text-align:center; color:#546545;text-shadow: 2px 2px 4px #000000;\">Problem formulation</h2>\n",
    "\n",
    "The **EEG Brainwave Dataset** contains electronic brainwave signals from an EEG headset and is in temporal format.\n",
    "\n",
    "Team Members: **Suyog, Sanket, Rushikesh, Ritesh**"
   ]
  },
  {
   "cell_type": "markdown",
   "metadata": {},
   "source": [
    "<h2 style=\"text-align:center; color:#546545;text-shadow: 2px 2px 4px #000000;\">Import Packages</h2>"
   ]
  },
  {
   "cell_type": "code",
   "execution_count": 2,
   "metadata": {
    "execution": {
     "iopub.execute_input": "2022-02-08T04:40:08.413596Z",
     "iopub.status.busy": "2022-02-08T04:40:08.412954Z",
     "iopub.status.idle": "2022-02-08T04:40:09.863926Z",
     "shell.execute_reply": "2022-02-08T04:40:09.862809Z",
     "shell.execute_reply.started": "2022-02-08T04:40:08.413527Z"
    },
    "scrolled": true
   },
   "outputs": [
    {
     "name": "stdout",
     "output_type": "stream",
     "text": [
      "^C\n"
     ]
    },
    {
     "ename": "FileNotFoundError",
     "evalue": "[WinError 3] The system cannot find the path specified: '../input'",
     "output_type": "error",
     "traceback": [
      "\u001b[1;31m---------------------------------------------------------------------------\u001b[0m",
      "\u001b[1;31mFileNotFoundError\u001b[0m                         Traceback (most recent call last)",
      "\u001b[1;32mC:\\Users\\SUYOG_~1\\AppData\\Local\\Temp/ipykernel_14144/187731530.py\u001b[0m in \u001b[0;36m<module>\u001b[1;34m\u001b[0m\n\u001b[0;32m     23\u001b[0m \u001b[1;33m\u001b[0m\u001b[0m\n\u001b[0;32m     24\u001b[0m \u001b[1;32mimport\u001b[0m \u001b[0mos\u001b[0m\u001b[1;33m\u001b[0m\u001b[1;33m\u001b[0m\u001b[0m\n\u001b[1;32m---> 25\u001b[1;33m \u001b[0mos\u001b[0m\u001b[1;33m.\u001b[0m\u001b[0mlistdir\u001b[0m\u001b[1;33m(\u001b[0m\u001b[1;34m'../input'\u001b[0m\u001b[1;33m)\u001b[0m\u001b[1;33m\u001b[0m\u001b[1;33m\u001b[0m\u001b[0m\n\u001b[0m",
      "\u001b[1;31mFileNotFoundError\u001b[0m: [WinError 3] The system cannot find the path specified: '../input'"
     ]
    }
   ],
   "source": [
    "import sys\n",
    "!{sys.executable} -m pip install xgboost\n",
    "\n",
    "import pandas as pd\n",
    "import numpy as np\n",
    "import matplotlib.pyplot as plt\n",
    "import seaborn as sns\n",
    "%matplotlib inline\n",
    "\n",
    "from sklearn.pipeline import Pipeline\n",
    "from sklearn.preprocessing import StandardScaler\n",
    "from sklearn.decomposition import PCA\n",
    "from sklearn.ensemble import RandomForestClassifier\n",
    "from sklearn.svm import LinearSVC\n",
    "from sklearn.model_selection import cross_val_score, train_test_split\n",
    "from sklearn.linear_model import LogisticRegression\n",
    "from sklearn.neural_network import MLPClassifier\n",
    "\n",
    "import xgboost as xgb\n",
    "\n",
    "import warnings\n",
    "warnings.filterwarnings('ignore')\n",
    "\n",
    "import os\n",
    "os.listdir('../input')\n"
   ]
  },
  {
   "cell_type": "code",
   "execution_count": 2,
   "metadata": {
    "execution": {
     "iopub.execute_input": "2022-02-08T04:40:09.86607Z",
     "iopub.status.busy": "2022-02-08T04:40:09.865557Z",
     "iopub.status.idle": "2022-02-08T04:40:12.019387Z",
     "shell.execute_reply": "2022-02-08T04:40:12.018091Z",
     "shell.execute_reply.started": "2022-02-08T04:40:09.86601Z"
    }
   },
   "outputs": [],
   "source": [
    "brainwave_df = pd.read_csv('../Dataset/emotions.csv/emotions.csv')"
   ]
  },
  {
   "cell_type": "markdown",
   "metadata": {},
   "source": [
    "<h2 style=\"text-align:center; color:#546545;text-shadow: 2px 2px 4px #000000;\">Peek of Data</h2>"
   ]
  },
  {
   "cell_type": "code",
   "execution_count": 3,
   "metadata": {
    "execution": {
     "iopub.execute_input": "2022-02-08T04:40:12.024485Z",
     "iopub.status.busy": "2022-02-08T04:40:12.024151Z",
     "iopub.status.idle": "2022-02-08T04:40:12.192473Z",
     "shell.execute_reply": "2022-02-08T04:40:12.191446Z",
     "shell.execute_reply.started": "2022-02-08T04:40:12.024433Z"
    }
   },
   "outputs": [
    {
     "data": {
      "text/html": [
       "<div>\n",
       "<style scoped>\n",
       "    .dataframe tbody tr th:only-of-type {\n",
       "        vertical-align: middle;\n",
       "    }\n",
       "\n",
       "    .dataframe tbody tr th {\n",
       "        vertical-align: top;\n",
       "    }\n",
       "\n",
       "    .dataframe thead th {\n",
       "        text-align: right;\n",
       "    }\n",
       "</style>\n",
       "<table border=\"1\" class=\"dataframe\">\n",
       "  <thead>\n",
       "    <tr style=\"text-align: right;\">\n",
       "      <th></th>\n",
       "      <th># mean_0_a</th>\n",
       "      <th>mean_1_a</th>\n",
       "      <th>mean_2_a</th>\n",
       "      <th>mean_3_a</th>\n",
       "      <th>mean_4_a</th>\n",
       "      <th>mean_d_0_a</th>\n",
       "      <th>mean_d_1_a</th>\n",
       "      <th>mean_d_2_a</th>\n",
       "      <th>mean_d_3_a</th>\n",
       "      <th>mean_d_4_a</th>\n",
       "      <th>...</th>\n",
       "      <th>fft_741_b</th>\n",
       "      <th>fft_742_b</th>\n",
       "      <th>fft_743_b</th>\n",
       "      <th>fft_744_b</th>\n",
       "      <th>fft_745_b</th>\n",
       "      <th>fft_746_b</th>\n",
       "      <th>fft_747_b</th>\n",
       "      <th>fft_748_b</th>\n",
       "      <th>fft_749_b</th>\n",
       "      <th>label</th>\n",
       "    </tr>\n",
       "  </thead>\n",
       "  <tbody>\n",
       "    <tr>\n",
       "      <th>0</th>\n",
       "      <td>4.62</td>\n",
       "      <td>30.3</td>\n",
       "      <td>-356.0</td>\n",
       "      <td>15.6</td>\n",
       "      <td>26.3</td>\n",
       "      <td>1.070</td>\n",
       "      <td>0.411</td>\n",
       "      <td>-15.70</td>\n",
       "      <td>2.06</td>\n",
       "      <td>3.15</td>\n",
       "      <td>...</td>\n",
       "      <td>23.5</td>\n",
       "      <td>20.3</td>\n",
       "      <td>20.3</td>\n",
       "      <td>23.5</td>\n",
       "      <td>-215.0</td>\n",
       "      <td>280.00</td>\n",
       "      <td>-162.00</td>\n",
       "      <td>-162.00</td>\n",
       "      <td>280.00</td>\n",
       "      <td>NEGATIVE</td>\n",
       "    </tr>\n",
       "    <tr>\n",
       "      <th>1</th>\n",
       "      <td>28.80</td>\n",
       "      <td>33.1</td>\n",
       "      <td>32.0</td>\n",
       "      <td>25.8</td>\n",
       "      <td>22.8</td>\n",
       "      <td>6.550</td>\n",
       "      <td>1.680</td>\n",
       "      <td>2.88</td>\n",
       "      <td>3.83</td>\n",
       "      <td>-4.82</td>\n",
       "      <td>...</td>\n",
       "      <td>-23.3</td>\n",
       "      <td>-21.8</td>\n",
       "      <td>-21.8</td>\n",
       "      <td>-23.3</td>\n",
       "      <td>182.0</td>\n",
       "      <td>2.57</td>\n",
       "      <td>-31.60</td>\n",
       "      <td>-31.60</td>\n",
       "      <td>2.57</td>\n",
       "      <td>NEUTRAL</td>\n",
       "    </tr>\n",
       "    <tr>\n",
       "      <th>2</th>\n",
       "      <td>8.90</td>\n",
       "      <td>29.4</td>\n",
       "      <td>-416.0</td>\n",
       "      <td>16.7</td>\n",
       "      <td>23.7</td>\n",
       "      <td>79.900</td>\n",
       "      <td>3.360</td>\n",
       "      <td>90.20</td>\n",
       "      <td>89.90</td>\n",
       "      <td>2.03</td>\n",
       "      <td>...</td>\n",
       "      <td>462.0</td>\n",
       "      <td>-233.0</td>\n",
       "      <td>-233.0</td>\n",
       "      <td>462.0</td>\n",
       "      <td>-267.0</td>\n",
       "      <td>281.00</td>\n",
       "      <td>-148.00</td>\n",
       "      <td>-148.00</td>\n",
       "      <td>281.00</td>\n",
       "      <td>POSITIVE</td>\n",
       "    </tr>\n",
       "    <tr>\n",
       "      <th>3</th>\n",
       "      <td>14.90</td>\n",
       "      <td>31.6</td>\n",
       "      <td>-143.0</td>\n",
       "      <td>19.8</td>\n",
       "      <td>24.3</td>\n",
       "      <td>-0.584</td>\n",
       "      <td>-0.284</td>\n",
       "      <td>8.82</td>\n",
       "      <td>2.30</td>\n",
       "      <td>-1.97</td>\n",
       "      <td>...</td>\n",
       "      <td>299.0</td>\n",
       "      <td>-243.0</td>\n",
       "      <td>-243.0</td>\n",
       "      <td>299.0</td>\n",
       "      <td>132.0</td>\n",
       "      <td>-12.40</td>\n",
       "      <td>9.53</td>\n",
       "      <td>9.53</td>\n",
       "      <td>-12.40</td>\n",
       "      <td>POSITIVE</td>\n",
       "    </tr>\n",
       "    <tr>\n",
       "      <th>4</th>\n",
       "      <td>28.30</td>\n",
       "      <td>31.3</td>\n",
       "      <td>45.2</td>\n",
       "      <td>27.3</td>\n",
       "      <td>24.5</td>\n",
       "      <td>34.800</td>\n",
       "      <td>-5.790</td>\n",
       "      <td>3.06</td>\n",
       "      <td>41.40</td>\n",
       "      <td>5.52</td>\n",
       "      <td>...</td>\n",
       "      <td>12.0</td>\n",
       "      <td>38.1</td>\n",
       "      <td>38.1</td>\n",
       "      <td>12.0</td>\n",
       "      <td>119.0</td>\n",
       "      <td>-17.60</td>\n",
       "      <td>23.90</td>\n",
       "      <td>23.90</td>\n",
       "      <td>-17.60</td>\n",
       "      <td>NEUTRAL</td>\n",
       "    </tr>\n",
       "  </tbody>\n",
       "</table>\n",
       "<p>5 rows × 2549 columns</p>\n",
       "</div>"
      ],
      "text/plain": [
       "   # mean_0_a  mean_1_a  mean_2_a  mean_3_a  mean_4_a  mean_d_0_a  mean_d_1_a  \\\n",
       "0        4.62      30.3    -356.0      15.6      26.3       1.070       0.411   \n",
       "1       28.80      33.1      32.0      25.8      22.8       6.550       1.680   \n",
       "2        8.90      29.4    -416.0      16.7      23.7      79.900       3.360   \n",
       "3       14.90      31.6    -143.0      19.8      24.3      -0.584      -0.284   \n",
       "4       28.30      31.3      45.2      27.3      24.5      34.800      -5.790   \n",
       "\n",
       "   mean_d_2_a  mean_d_3_a  mean_d_4_a  ...  fft_741_b  fft_742_b  fft_743_b  \\\n",
       "0      -15.70        2.06        3.15  ...       23.5       20.3       20.3   \n",
       "1        2.88        3.83       -4.82  ...      -23.3      -21.8      -21.8   \n",
       "2       90.20       89.90        2.03  ...      462.0     -233.0     -233.0   \n",
       "3        8.82        2.30       -1.97  ...      299.0     -243.0     -243.0   \n",
       "4        3.06       41.40        5.52  ...       12.0       38.1       38.1   \n",
       "\n",
       "   fft_744_b  fft_745_b  fft_746_b  fft_747_b  fft_748_b  fft_749_b     label  \n",
       "0       23.5     -215.0     280.00    -162.00    -162.00     280.00  NEGATIVE  \n",
       "1      -23.3      182.0       2.57     -31.60     -31.60       2.57   NEUTRAL  \n",
       "2      462.0     -267.0     281.00    -148.00    -148.00     281.00  POSITIVE  \n",
       "3      299.0      132.0     -12.40       9.53       9.53     -12.40  POSITIVE  \n",
       "4       12.0      119.0     -17.60      23.90      23.90     -17.60   NEUTRAL  \n",
       "\n",
       "[5 rows x 2549 columns]"
      ]
     },
     "execution_count": 3,
     "metadata": {},
     "output_type": "execute_result"
    }
   ],
   "source": [
    "brainwave_df.head()"
   ]
  },
  {
   "cell_type": "markdown",
   "metadata": {},
   "source": [
    "<h2 style=\"text-align:center; color:#546545;text-shadow: 2px 2px 4px #000000;\">Tail of Data</h2>"
   ]
  },
  {
   "cell_type": "code",
   "execution_count": 4,
   "metadata": {
    "execution": {
     "iopub.execute_input": "2022-02-08T04:40:12.194669Z",
     "iopub.status.busy": "2022-02-08T04:40:12.194414Z",
     "iopub.status.idle": "2022-02-08T04:40:12.345202Z",
     "shell.execute_reply": "2022-02-08T04:40:12.34409Z",
     "shell.execute_reply.started": "2022-02-08T04:40:12.194623Z"
    }
   },
   "outputs": [
    {
     "data": {
      "text/html": [
       "<div>\n",
       "<style scoped>\n",
       "    .dataframe tbody tr th:only-of-type {\n",
       "        vertical-align: middle;\n",
       "    }\n",
       "\n",
       "    .dataframe tbody tr th {\n",
       "        vertical-align: top;\n",
       "    }\n",
       "\n",
       "    .dataframe thead th {\n",
       "        text-align: right;\n",
       "    }\n",
       "</style>\n",
       "<table border=\"1\" class=\"dataframe\">\n",
       "  <thead>\n",
       "    <tr style=\"text-align: right;\">\n",
       "      <th></th>\n",
       "      <th># mean_0_a</th>\n",
       "      <th>mean_1_a</th>\n",
       "      <th>mean_2_a</th>\n",
       "      <th>mean_3_a</th>\n",
       "      <th>mean_4_a</th>\n",
       "      <th>mean_d_0_a</th>\n",
       "      <th>mean_d_1_a</th>\n",
       "      <th>mean_d_2_a</th>\n",
       "      <th>mean_d_3_a</th>\n",
       "      <th>mean_d_4_a</th>\n",
       "      <th>...</th>\n",
       "      <th>fft_741_b</th>\n",
       "      <th>fft_742_b</th>\n",
       "      <th>fft_743_b</th>\n",
       "      <th>fft_744_b</th>\n",
       "      <th>fft_745_b</th>\n",
       "      <th>fft_746_b</th>\n",
       "      <th>fft_747_b</th>\n",
       "      <th>fft_748_b</th>\n",
       "      <th>fft_749_b</th>\n",
       "      <th>label</th>\n",
       "    </tr>\n",
       "  </thead>\n",
       "  <tbody>\n",
       "    <tr>\n",
       "      <th>2127</th>\n",
       "      <td>32.400</td>\n",
       "      <td>32.2</td>\n",
       "      <td>32.2</td>\n",
       "      <td>30.80</td>\n",
       "      <td>23.4</td>\n",
       "      <td>1.64</td>\n",
       "      <td>-2.03</td>\n",
       "      <td>0.647</td>\n",
       "      <td>-0.121</td>\n",
       "      <td>-1.10</td>\n",
       "      <td>...</td>\n",
       "      <td>-21.70</td>\n",
       "      <td>0.218</td>\n",
       "      <td>0.218</td>\n",
       "      <td>-21.70</td>\n",
       "      <td>95.2</td>\n",
       "      <td>-19.90</td>\n",
       "      <td>47.2</td>\n",
       "      <td>47.2</td>\n",
       "      <td>-19.90</td>\n",
       "      <td>NEUTRAL</td>\n",
       "    </tr>\n",
       "    <tr>\n",
       "      <th>2128</th>\n",
       "      <td>16.300</td>\n",
       "      <td>31.3</td>\n",
       "      <td>-284.0</td>\n",
       "      <td>14.30</td>\n",
       "      <td>23.9</td>\n",
       "      <td>4.20</td>\n",
       "      <td>1.09</td>\n",
       "      <td>4.460</td>\n",
       "      <td>4.720</td>\n",
       "      <td>6.63</td>\n",
       "      <td>...</td>\n",
       "      <td>594.00</td>\n",
       "      <td>-324.000</td>\n",
       "      <td>-324.000</td>\n",
       "      <td>594.00</td>\n",
       "      <td>-35.5</td>\n",
       "      <td>142.00</td>\n",
       "      <td>-59.8</td>\n",
       "      <td>-59.8</td>\n",
       "      <td>142.00</td>\n",
       "      <td>POSITIVE</td>\n",
       "    </tr>\n",
       "    <tr>\n",
       "      <th>2129</th>\n",
       "      <td>-0.547</td>\n",
       "      <td>28.3</td>\n",
       "      <td>-259.0</td>\n",
       "      <td>15.80</td>\n",
       "      <td>26.7</td>\n",
       "      <td>9.08</td>\n",
       "      <td>6.90</td>\n",
       "      <td>12.700</td>\n",
       "      <td>2.030</td>\n",
       "      <td>4.64</td>\n",
       "      <td>...</td>\n",
       "      <td>370.00</td>\n",
       "      <td>-160.000</td>\n",
       "      <td>-160.000</td>\n",
       "      <td>370.00</td>\n",
       "      <td>408.0</td>\n",
       "      <td>-169.00</td>\n",
       "      <td>-10.5</td>\n",
       "      <td>-10.5</td>\n",
       "      <td>-169.00</td>\n",
       "      <td>NEGATIVE</td>\n",
       "    </tr>\n",
       "    <tr>\n",
       "      <th>2130</th>\n",
       "      <td>16.800</td>\n",
       "      <td>19.9</td>\n",
       "      <td>-288.0</td>\n",
       "      <td>8.34</td>\n",
       "      <td>26.0</td>\n",
       "      <td>2.46</td>\n",
       "      <td>1.58</td>\n",
       "      <td>-16.000</td>\n",
       "      <td>1.690</td>\n",
       "      <td>4.74</td>\n",
       "      <td>...</td>\n",
       "      <td>124.00</td>\n",
       "      <td>-27.600</td>\n",
       "      <td>-27.600</td>\n",
       "      <td>124.00</td>\n",
       "      <td>-656.0</td>\n",
       "      <td>552.00</td>\n",
       "      <td>-271.0</td>\n",
       "      <td>-271.0</td>\n",
       "      <td>552.00</td>\n",
       "      <td>NEGATIVE</td>\n",
       "    </tr>\n",
       "    <tr>\n",
       "      <th>2131</th>\n",
       "      <td>27.000</td>\n",
       "      <td>32.0</td>\n",
       "      <td>31.8</td>\n",
       "      <td>25.00</td>\n",
       "      <td>28.9</td>\n",
       "      <td>4.99</td>\n",
       "      <td>1.95</td>\n",
       "      <td>6.210</td>\n",
       "      <td>3.490</td>\n",
       "      <td>-3.51</td>\n",
       "      <td>...</td>\n",
       "      <td>1.95</td>\n",
       "      <td>1.810</td>\n",
       "      <td>1.810</td>\n",
       "      <td>1.95</td>\n",
       "      <td>110.0</td>\n",
       "      <td>-6.71</td>\n",
       "      <td>22.8</td>\n",
       "      <td>22.8</td>\n",
       "      <td>-6.71</td>\n",
       "      <td>NEUTRAL</td>\n",
       "    </tr>\n",
       "  </tbody>\n",
       "</table>\n",
       "<p>5 rows × 2549 columns</p>\n",
       "</div>"
      ],
      "text/plain": [
       "      # mean_0_a  mean_1_a  mean_2_a  mean_3_a  mean_4_a  mean_d_0_a  \\\n",
       "2127      32.400      32.2      32.2     30.80      23.4        1.64   \n",
       "2128      16.300      31.3    -284.0     14.30      23.9        4.20   \n",
       "2129      -0.547      28.3    -259.0     15.80      26.7        9.08   \n",
       "2130      16.800      19.9    -288.0      8.34      26.0        2.46   \n",
       "2131      27.000      32.0      31.8     25.00      28.9        4.99   \n",
       "\n",
       "      mean_d_1_a  mean_d_2_a  mean_d_3_a  mean_d_4_a  ...  fft_741_b  \\\n",
       "2127       -2.03       0.647      -0.121       -1.10  ...     -21.70   \n",
       "2128        1.09       4.460       4.720        6.63  ...     594.00   \n",
       "2129        6.90      12.700       2.030        4.64  ...     370.00   \n",
       "2130        1.58     -16.000       1.690        4.74  ...     124.00   \n",
       "2131        1.95       6.210       3.490       -3.51  ...       1.95   \n",
       "\n",
       "      fft_742_b  fft_743_b  fft_744_b  fft_745_b  fft_746_b  fft_747_b  \\\n",
       "2127      0.218      0.218     -21.70       95.2     -19.90       47.2   \n",
       "2128   -324.000   -324.000     594.00      -35.5     142.00      -59.8   \n",
       "2129   -160.000   -160.000     370.00      408.0    -169.00      -10.5   \n",
       "2130    -27.600    -27.600     124.00     -656.0     552.00     -271.0   \n",
       "2131      1.810      1.810       1.95      110.0      -6.71       22.8   \n",
       "\n",
       "      fft_748_b  fft_749_b     label  \n",
       "2127       47.2     -19.90   NEUTRAL  \n",
       "2128      -59.8     142.00  POSITIVE  \n",
       "2129      -10.5    -169.00  NEGATIVE  \n",
       "2130     -271.0     552.00  NEGATIVE  \n",
       "2131       22.8      -6.71   NEUTRAL  \n",
       "\n",
       "[5 rows x 2549 columns]"
      ]
     },
     "execution_count": 4,
     "metadata": {},
     "output_type": "execute_result"
    }
   ],
   "source": [
    "brainwave_df.tail()"
   ]
  },
  {
   "cell_type": "markdown",
   "metadata": {},
   "source": [
    "<h2 style=\"text-align:center; color:#546545;text-shadow: 2px 2px 4px #000000;\">Dimensions of Data"
   ]
  },
  {
   "cell_type": "code",
   "execution_count": 5,
   "metadata": {
    "execution": {
     "iopub.execute_input": "2022-02-08T04:40:12.346922Z",
     "iopub.status.busy": "2022-02-08T04:40:12.346672Z",
     "iopub.status.idle": "2022-02-08T04:40:12.352533Z",
     "shell.execute_reply": "2022-02-08T04:40:12.351648Z",
     "shell.execute_reply.started": "2022-02-08T04:40:12.346876Z"
    }
   },
   "outputs": [
    {
     "data": {
      "text/plain": [
       "(2132, 2549)"
      ]
     },
     "execution_count": 5,
     "metadata": {},
     "output_type": "execute_result"
    }
   ],
   "source": [
    "brainwave_df.shape"
   ]
  },
  {
   "cell_type": "markdown",
   "metadata": {},
   "source": [
    "<h2 style=\"text-align:center; color:#546545;text-shadow: 2px 2px 4px #000000;\">Data Type For Each Attribute</h2>"
   ]
  },
  {
   "cell_type": "code",
   "execution_count": 6,
   "metadata": {
    "execution": {
     "iopub.execute_input": "2022-02-08T04:40:12.354485Z",
     "iopub.status.busy": "2022-02-08T04:40:12.354223Z",
     "iopub.status.idle": "2022-02-08T04:40:12.371665Z",
     "shell.execute_reply": "2022-02-08T04:40:12.370444Z",
     "shell.execute_reply.started": "2022-02-08T04:40:12.354433Z"
    }
   },
   "outputs": [
    {
     "data": {
      "text/plain": [
       "# mean_0_a    float64\n",
       "mean_1_a      float64\n",
       "mean_2_a      float64\n",
       "mean_3_a      float64\n",
       "mean_4_a      float64\n",
       "               ...   \n",
       "fft_746_b     float64\n",
       "fft_747_b     float64\n",
       "fft_748_b     float64\n",
       "fft_749_b     float64\n",
       "label          object\n",
       "Length: 2549, dtype: object"
      ]
     },
     "execution_count": 6,
     "metadata": {},
     "output_type": "execute_result"
    }
   ],
   "source": [
    "brainwave_df.dtypes"
   ]
  },
  {
   "cell_type": "markdown",
   "metadata": {},
   "source": [
    "<h2 style=\"text-align:center; color:#546545;text-shadow: 2px 2px 4px #000000;\">Descriptive Statistics</h2>"
   ]
  },
  {
   "cell_type": "code",
   "execution_count": 7,
   "metadata": {
    "execution": {
     "iopub.execute_input": "2022-02-08T04:40:12.373375Z",
     "iopub.status.busy": "2022-02-08T04:40:12.373083Z",
     "iopub.status.idle": "2022-02-08T04:40:18.832458Z",
     "shell.execute_reply": "2022-02-08T04:40:18.831513Z",
     "shell.execute_reply.started": "2022-02-08T04:40:12.373324Z"
    }
   },
   "outputs": [
    {
     "data": {
      "text/html": [
       "<div>\n",
       "<style scoped>\n",
       "    .dataframe tbody tr th:only-of-type {\n",
       "        vertical-align: middle;\n",
       "    }\n",
       "\n",
       "    .dataframe tbody tr th {\n",
       "        vertical-align: top;\n",
       "    }\n",
       "\n",
       "    .dataframe thead th {\n",
       "        text-align: right;\n",
       "    }\n",
       "</style>\n",
       "<table border=\"1\" class=\"dataframe\">\n",
       "  <thead>\n",
       "    <tr style=\"text-align: right;\">\n",
       "      <th></th>\n",
       "      <th># mean_0_a</th>\n",
       "      <th>mean_1_a</th>\n",
       "      <th>mean_2_a</th>\n",
       "      <th>mean_3_a</th>\n",
       "      <th>mean_4_a</th>\n",
       "      <th>mean_d_0_a</th>\n",
       "      <th>mean_d_1_a</th>\n",
       "      <th>mean_d_2_a</th>\n",
       "      <th>mean_d_3_a</th>\n",
       "      <th>mean_d_4_a</th>\n",
       "      <th>...</th>\n",
       "      <th>fft_740_b</th>\n",
       "      <th>fft_741_b</th>\n",
       "      <th>fft_742_b</th>\n",
       "      <th>fft_743_b</th>\n",
       "      <th>fft_744_b</th>\n",
       "      <th>fft_745_b</th>\n",
       "      <th>fft_746_b</th>\n",
       "      <th>fft_747_b</th>\n",
       "      <th>fft_748_b</th>\n",
       "      <th>fft_749_b</th>\n",
       "    </tr>\n",
       "  </thead>\n",
       "  <tbody>\n",
       "    <tr>\n",
       "      <th>count</th>\n",
       "      <td>2132.000000</td>\n",
       "      <td>2132.000000</td>\n",
       "      <td>2132.000000</td>\n",
       "      <td>2132.000000</td>\n",
       "      <td>2132.000000</td>\n",
       "      <td>2132.000000</td>\n",
       "      <td>2132.000000</td>\n",
       "      <td>2132.000000</td>\n",
       "      <td>2132.000000</td>\n",
       "      <td>2132.000000</td>\n",
       "      <td>...</td>\n",
       "      <td>2132.000000</td>\n",
       "      <td>2132.000000</td>\n",
       "      <td>2132.000000</td>\n",
       "      <td>2132.000000</td>\n",
       "      <td>2132.000000</td>\n",
       "      <td>2132.000000</td>\n",
       "      <td>2132.000000</td>\n",
       "      <td>2132.000000</td>\n",
       "      <td>2132.000000</td>\n",
       "      <td>2132.000000</td>\n",
       "    </tr>\n",
       "    <tr>\n",
       "      <th>mean</th>\n",
       "      <td>15.256914</td>\n",
       "      <td>27.012462</td>\n",
       "      <td>-104.975629</td>\n",
       "      <td>13.605898</td>\n",
       "      <td>24.150483</td>\n",
       "      <td>0.025378</td>\n",
       "      <td>0.052282</td>\n",
       "      <td>0.301655</td>\n",
       "      <td>0.036793</td>\n",
       "      <td>0.083567</td>\n",
       "      <td>...</td>\n",
       "      <td>-22.938971</td>\n",
       "      <td>104.946111</td>\n",
       "      <td>-51.973647</td>\n",
       "      <td>-51.973647</td>\n",
       "      <td>104.946111</td>\n",
       "      <td>-6.934144</td>\n",
       "      <td>95.104886</td>\n",
       "      <td>-49.061255</td>\n",
       "      <td>-49.061255</td>\n",
       "      <td>95.104886</td>\n",
       "    </tr>\n",
       "    <tr>\n",
       "      <th>std</th>\n",
       "      <td>15.284621</td>\n",
       "      <td>9.265141</td>\n",
       "      <td>206.271960</td>\n",
       "      <td>16.874676</td>\n",
       "      <td>14.187340</td>\n",
       "      <td>17.981796</td>\n",
       "      <td>8.509174</td>\n",
       "      <td>68.098894</td>\n",
       "      <td>17.010031</td>\n",
       "      <td>18.935378</td>\n",
       "      <td>...</td>\n",
       "      <td>298.034311</td>\n",
       "      <td>212.532721</td>\n",
       "      <td>112.160233</td>\n",
       "      <td>112.160233</td>\n",
       "      <td>212.532721</td>\n",
       "      <td>281.040552</td>\n",
       "      <td>203.194976</td>\n",
       "      <td>106.486317</td>\n",
       "      <td>106.486317</td>\n",
       "      <td>203.194976</td>\n",
       "    </tr>\n",
       "    <tr>\n",
       "      <th>min</th>\n",
       "      <td>-61.300000</td>\n",
       "      <td>-114.000000</td>\n",
       "      <td>-970.000000</td>\n",
       "      <td>-137.000000</td>\n",
       "      <td>-217.000000</td>\n",
       "      <td>-218.000000</td>\n",
       "      <td>-255.000000</td>\n",
       "      <td>-1360.000000</td>\n",
       "      <td>-203.000000</td>\n",
       "      <td>-553.000000</td>\n",
       "      <td>...</td>\n",
       "      <td>-1180.000000</td>\n",
       "      <td>-921.000000</td>\n",
       "      <td>-504.000000</td>\n",
       "      <td>-504.000000</td>\n",
       "      <td>-921.000000</td>\n",
       "      <td>-1160.000000</td>\n",
       "      <td>-1010.000000</td>\n",
       "      <td>-521.000000</td>\n",
       "      <td>-521.000000</td>\n",
       "      <td>-1010.000000</td>\n",
       "    </tr>\n",
       "    <tr>\n",
       "      <th>25%</th>\n",
       "      <td>6.577500</td>\n",
       "      <td>26.075000</td>\n",
       "      <td>-195.000000</td>\n",
       "      <td>4.857500</td>\n",
       "      <td>23.600000</td>\n",
       "      <td>-3.105000</td>\n",
       "      <td>-1.340000</td>\n",
       "      <td>-4.002500</td>\n",
       "      <td>-2.905000</td>\n",
       "      <td>-2.622500</td>\n",
       "      <td>...</td>\n",
       "      <td>-106.500000</td>\n",
       "      <td>-8.365000</td>\n",
       "      <td>-92.900000</td>\n",
       "      <td>-92.900000</td>\n",
       "      <td>-8.365000</td>\n",
       "      <td>-102.500000</td>\n",
       "      <td>-8.837500</td>\n",
       "      <td>-87.150000</td>\n",
       "      <td>-87.150000</td>\n",
       "      <td>-8.837500</td>\n",
       "    </tr>\n",
       "    <tr>\n",
       "      <th>50%</th>\n",
       "      <td>14.100000</td>\n",
       "      <td>30.000000</td>\n",
       "      <td>14.950000</td>\n",
       "      <td>15.400000</td>\n",
       "      <td>25.200000</td>\n",
       "      <td>-0.044600</td>\n",
       "      <td>0.132000</td>\n",
       "      <td>0.957500</td>\n",
       "      <td>-0.099750</td>\n",
       "      <td>0.146500</td>\n",
       "      <td>...</td>\n",
       "      <td>83.850000</td>\n",
       "      <td>12.150000</td>\n",
       "      <td>-21.800000</td>\n",
       "      <td>-21.800000</td>\n",
       "      <td>12.150000</td>\n",
       "      <td>89.700000</td>\n",
       "      <td>13.400000</td>\n",
       "      <td>-24.100000</td>\n",
       "      <td>-24.100000</td>\n",
       "      <td>13.400000</td>\n",
       "    </tr>\n",
       "    <tr>\n",
       "      <th>75%</th>\n",
       "      <td>27.700000</td>\n",
       "      <td>31.400000</td>\n",
       "      <td>29.600000</td>\n",
       "      <td>26.500000</td>\n",
       "      <td>26.800000</td>\n",
       "      <td>2.920000</td>\n",
       "      <td>1.540000</td>\n",
       "      <td>6.735000</td>\n",
       "      <td>2.535000</td>\n",
       "      <td>2.870000</td>\n",
       "      <td>...</td>\n",
       "      <td>154.000000</td>\n",
       "      <td>177.000000</td>\n",
       "      <td>12.025000</td>\n",
       "      <td>12.025000</td>\n",
       "      <td>177.000000</td>\n",
       "      <td>153.000000</td>\n",
       "      <td>149.250000</td>\n",
       "      <td>10.925000</td>\n",
       "      <td>10.925000</td>\n",
       "      <td>149.250000</td>\n",
       "    </tr>\n",
       "    <tr>\n",
       "      <th>max</th>\n",
       "      <td>304.000000</td>\n",
       "      <td>42.300000</td>\n",
       "      <td>661.000000</td>\n",
       "      <td>206.000000</td>\n",
       "      <td>213.000000</td>\n",
       "      <td>402.000000</td>\n",
       "      <td>257.000000</td>\n",
       "      <td>1150.000000</td>\n",
       "      <td>349.000000</td>\n",
       "      <td>444.000000</td>\n",
       "      <td>...</td>\n",
       "      <td>1070.000000</td>\n",
       "      <td>843.000000</td>\n",
       "      <td>1490.000000</td>\n",
       "      <td>1490.000000</td>\n",
       "      <td>843.000000</td>\n",
       "      <td>1180.000000</td>\n",
       "      <td>888.000000</td>\n",
       "      <td>1670.000000</td>\n",
       "      <td>1670.000000</td>\n",
       "      <td>888.000000</td>\n",
       "    </tr>\n",
       "  </tbody>\n",
       "</table>\n",
       "<p>8 rows × 2548 columns</p>\n",
       "</div>"
      ],
      "text/plain": [
       "        # mean_0_a     mean_1_a     mean_2_a     mean_3_a     mean_4_a  \\\n",
       "count  2132.000000  2132.000000  2132.000000  2132.000000  2132.000000   \n",
       "mean     15.256914    27.012462  -104.975629    13.605898    24.150483   \n",
       "std      15.284621     9.265141   206.271960    16.874676    14.187340   \n",
       "min     -61.300000  -114.000000  -970.000000  -137.000000  -217.000000   \n",
       "25%       6.577500    26.075000  -195.000000     4.857500    23.600000   \n",
       "50%      14.100000    30.000000    14.950000    15.400000    25.200000   \n",
       "75%      27.700000    31.400000    29.600000    26.500000    26.800000   \n",
       "max     304.000000    42.300000   661.000000   206.000000   213.000000   \n",
       "\n",
       "        mean_d_0_a   mean_d_1_a   mean_d_2_a   mean_d_3_a   mean_d_4_a  ...  \\\n",
       "count  2132.000000  2132.000000  2132.000000  2132.000000  2132.000000  ...   \n",
       "mean      0.025378     0.052282     0.301655     0.036793     0.083567  ...   \n",
       "std      17.981796     8.509174    68.098894    17.010031    18.935378  ...   \n",
       "min    -218.000000  -255.000000 -1360.000000  -203.000000  -553.000000  ...   \n",
       "25%      -3.105000    -1.340000    -4.002500    -2.905000    -2.622500  ...   \n",
       "50%      -0.044600     0.132000     0.957500    -0.099750     0.146500  ...   \n",
       "75%       2.920000     1.540000     6.735000     2.535000     2.870000  ...   \n",
       "max     402.000000   257.000000  1150.000000   349.000000   444.000000  ...   \n",
       "\n",
       "         fft_740_b    fft_741_b    fft_742_b    fft_743_b    fft_744_b  \\\n",
       "count  2132.000000  2132.000000  2132.000000  2132.000000  2132.000000   \n",
       "mean    -22.938971   104.946111   -51.973647   -51.973647   104.946111   \n",
       "std     298.034311   212.532721   112.160233   112.160233   212.532721   \n",
       "min   -1180.000000  -921.000000  -504.000000  -504.000000  -921.000000   \n",
       "25%    -106.500000    -8.365000   -92.900000   -92.900000    -8.365000   \n",
       "50%      83.850000    12.150000   -21.800000   -21.800000    12.150000   \n",
       "75%     154.000000   177.000000    12.025000    12.025000   177.000000   \n",
       "max    1070.000000   843.000000  1490.000000  1490.000000   843.000000   \n",
       "\n",
       "         fft_745_b    fft_746_b    fft_747_b    fft_748_b    fft_749_b  \n",
       "count  2132.000000  2132.000000  2132.000000  2132.000000  2132.000000  \n",
       "mean     -6.934144    95.104886   -49.061255   -49.061255    95.104886  \n",
       "std     281.040552   203.194976   106.486317   106.486317   203.194976  \n",
       "min   -1160.000000 -1010.000000  -521.000000  -521.000000 -1010.000000  \n",
       "25%    -102.500000    -8.837500   -87.150000   -87.150000    -8.837500  \n",
       "50%      89.700000    13.400000   -24.100000   -24.100000    13.400000  \n",
       "75%     153.000000   149.250000    10.925000    10.925000   149.250000  \n",
       "max    1180.000000   888.000000  1670.000000  1670.000000   888.000000  \n",
       "\n",
       "[8 rows x 2548 columns]"
      ]
     },
     "execution_count": 7,
     "metadata": {},
     "output_type": "execute_result"
    }
   ],
   "source": [
    "brainwave_df.describe()"
   ]
  },
  {
   "cell_type": "markdown",
   "metadata": {},
   "source": [
    "<h2 style=\"text-align:center; color:#546545;text-shadow: 2px 2px 4px #000000;\">Class Distribution</h2>"
   ]
  },
  {
   "cell_type": "code",
   "execution_count": 10,
   "metadata": {
    "execution": {
     "iopub.execute_input": "2022-02-08T04:40:18.834362Z",
     "iopub.status.busy": "2022-02-08T04:40:18.833828Z",
     "iopub.status.idle": "2022-02-08T04:40:19.200303Z",
     "shell.execute_reply": "2022-02-08T04:40:19.199245Z",
     "shell.execute_reply.started": "2022-02-08T04:40:18.834302Z"
    }
   },
   "outputs": [
    {
     "data": {
      "image/png": "[encoded data removed]",
      "text/plain": [
       "<Figure size 864x360 with 1 Axes>"
      ]
     },
     "metadata": {
      "needs_background": "light"
     },
     "output_type": "display_data"
    }
   ],
   "source": [
    "plt.figure(figsize=(12,5))\n",
    "sns.countplot(x=brainwave_df.label, color='mediumseagreen')\n",
    "plt.title('Emotional sentiment class distribution', fontsize=16)\n",
    "plt.ylabel('Class Counts', fontsize=16)\n",
    "plt.xlabel('Class Label', fontsize=16)\n",
    "plt.xticks(rotation='vertical');"
   ]
  },
  {
   "cell_type": "markdown",
   "metadata": {},
   "source": [
    "<h2 style=\"text-align:center; color:#546545;text-shadow: 2px 2px 4px #000000;\">Correlation Between Attributes</h2>\n",
    "Correlation refers to the relationship between two variables and how they may or may not change together.\n",
    "\n",
    "The most common method for calculating correlation is [Pearson’s Correlation Coefficient](https://en.wikipedia.org/wiki/Pearson_product-moment_correlation_coefficient), that assumes a normal distribution of the attributes involved. A correlation of -1 or 1 shows a full negative or positive correlation respectively. Whereas a value of 0 shows no correlation at all."
   ]
  },
  {
   "cell_type": "code",
   "execution_count": 11,
   "metadata": {
    "execution": {
     "iopub.execute_input": "2022-02-08T04:40:19.20245Z",
     "iopub.status.busy": "2022-02-08T04:40:19.20186Z",
     "iopub.status.idle": "2022-02-08T04:40:19.243764Z",
     "shell.execute_reply": "2022-02-08T04:40:19.242831Z",
     "shell.execute_reply.started": "2022-02-08T04:40:19.202386Z"
    }
   },
   "outputs": [],
   "source": [
    "label_df = brainwave_df['label']\n",
    "brainwave_df.drop('label', axis = 1, inplace=True)"
   ]
  },
  {
   "cell_type": "code",
   "execution_count": 12,
   "metadata": {
    "execution": {
     "iopub.execute_input": "2022-02-08T04:40:19.245112Z",
     "iopub.status.busy": "2022-02-08T04:40:19.244862Z",
     "iopub.status.idle": "2022-02-08T04:40:48.182638Z",
     "shell.execute_reply": "2022-02-08T04:40:48.181414Z",
     "shell.execute_reply.started": "2022-02-08T04:40:19.245069Z"
    }
   },
   "outputs": [
    {
     "data": {
      "text/html": [
       "<div>\n",
       "<style scoped>\n",
       "    .dataframe tbody tr th:only-of-type {\n",
       "        vertical-align: middle;\n",
       "    }\n",
       "\n",
       "    .dataframe tbody tr th {\n",
       "        vertical-align: top;\n",
       "    }\n",
       "\n",
       "    .dataframe thead th {\n",
       "        text-align: right;\n",
       "    }\n",
       "</style>\n",
       "<table border=\"1\" class=\"dataframe\">\n",
       "  <thead>\n",
       "    <tr style=\"text-align: right;\">\n",
       "      <th></th>\n",
       "      <th># mean_0_a</th>\n",
       "      <th>mean_1_a</th>\n",
       "      <th>mean_2_a</th>\n",
       "      <th>mean_3_a</th>\n",
       "      <th>mean_4_a</th>\n",
       "      <th>mean_d_0_a</th>\n",
       "      <th>mean_d_1_a</th>\n",
       "      <th>mean_d_2_a</th>\n",
       "      <th>mean_d_3_a</th>\n",
       "      <th>mean_d_4_a</th>\n",
       "      <th>...</th>\n",
       "      <th>fft_740_b</th>\n",
       "      <th>fft_741_b</th>\n",
       "      <th>fft_742_b</th>\n",
       "      <th>fft_743_b</th>\n",
       "      <th>fft_744_b</th>\n",
       "      <th>fft_745_b</th>\n",
       "      <th>fft_746_b</th>\n",
       "      <th>fft_747_b</th>\n",
       "      <th>fft_748_b</th>\n",
       "      <th>fft_749_b</th>\n",
       "    </tr>\n",
       "  </thead>\n",
       "  <tbody>\n",
       "    <tr>\n",
       "      <th># mean_0_a</th>\n",
       "      <td>1.000000</td>\n",
       "      <td>0.176578</td>\n",
       "      <td>0.429810</td>\n",
       "      <td>0.582697</td>\n",
       "      <td>0.178432</td>\n",
       "      <td>-0.000665</td>\n",
       "      <td>0.105961</td>\n",
       "      <td>-0.061046</td>\n",
       "      <td>0.135370</td>\n",
       "      <td>0.008472</td>\n",
       "      <td>...</td>\n",
       "      <td>0.301672</td>\n",
       "      <td>-0.245671</td>\n",
       "      <td>0.204764</td>\n",
       "      <td>0.204764</td>\n",
       "      <td>-0.245671</td>\n",
       "      <td>0.268983</td>\n",
       "      <td>-0.220566</td>\n",
       "      <td>0.196653</td>\n",
       "      <td>0.196653</td>\n",
       "      <td>-0.220566</td>\n",
       "    </tr>\n",
       "    <tr>\n",
       "      <th>mean_1_a</th>\n",
       "      <td>0.176578</td>\n",
       "      <td>1.000000</td>\n",
       "      <td>-0.007202</td>\n",
       "      <td>0.571530</td>\n",
       "      <td>0.385041</td>\n",
       "      <td>-0.088608</td>\n",
       "      <td>-0.007586</td>\n",
       "      <td>-0.050463</td>\n",
       "      <td>-0.119391</td>\n",
       "      <td>-0.017197</td>\n",
       "      <td>...</td>\n",
       "      <td>0.130717</td>\n",
       "      <td>-0.047208</td>\n",
       "      <td>0.002549</td>\n",
       "      <td>0.002549</td>\n",
       "      <td>-0.047208</td>\n",
       "      <td>0.153244</td>\n",
       "      <td>-0.096173</td>\n",
       "      <td>0.069532</td>\n",
       "      <td>0.069532</td>\n",
       "      <td>-0.096173</td>\n",
       "    </tr>\n",
       "    <tr>\n",
       "      <th>mean_2_a</th>\n",
       "      <td>0.429810</td>\n",
       "      <td>-0.007202</td>\n",
       "      <td>1.000000</td>\n",
       "      <td>0.081567</td>\n",
       "      <td>-0.095696</td>\n",
       "      <td>0.015122</td>\n",
       "      <td>0.014605</td>\n",
       "      <td>-0.004320</td>\n",
       "      <td>0.055625</td>\n",
       "      <td>-0.003564</td>\n",
       "      <td>...</td>\n",
       "      <td>0.699461</td>\n",
       "      <td>-0.742275</td>\n",
       "      <td>0.622567</td>\n",
       "      <td>0.622567</td>\n",
       "      <td>-0.742275</td>\n",
       "      <td>0.674195</td>\n",
       "      <td>-0.728296</td>\n",
       "      <td>0.565044</td>\n",
       "      <td>0.565044</td>\n",
       "      <td>-0.728296</td>\n",
       "    </tr>\n",
       "    <tr>\n",
       "      <th>mean_3_a</th>\n",
       "      <td>0.582697</td>\n",
       "      <td>0.571530</td>\n",
       "      <td>0.081567</td>\n",
       "      <td>1.000000</td>\n",
       "      <td>0.220842</td>\n",
       "      <td>-0.117748</td>\n",
       "      <td>0.124462</td>\n",
       "      <td>-0.175592</td>\n",
       "      <td>-0.001782</td>\n",
       "      <td>0.017110</td>\n",
       "      <td>...</td>\n",
       "      <td>0.133720</td>\n",
       "      <td>-0.067460</td>\n",
       "      <td>0.048202</td>\n",
       "      <td>0.048202</td>\n",
       "      <td>-0.067460</td>\n",
       "      <td>0.103294</td>\n",
       "      <td>-0.061376</td>\n",
       "      <td>0.051216</td>\n",
       "      <td>0.051216</td>\n",
       "      <td>-0.061376</td>\n",
       "    </tr>\n",
       "    <tr>\n",
       "      <th>mean_4_a</th>\n",
       "      <td>0.178432</td>\n",
       "      <td>0.385041</td>\n",
       "      <td>-0.095696</td>\n",
       "      <td>0.220842</td>\n",
       "      <td>1.000000</td>\n",
       "      <td>-0.017196</td>\n",
       "      <td>-0.007570</td>\n",
       "      <td>0.025546</td>\n",
       "      <td>-0.033443</td>\n",
       "      <td>-0.020361</td>\n",
       "      <td>...</td>\n",
       "      <td>-0.043602</td>\n",
       "      <td>0.069458</td>\n",
       "      <td>-0.090163</td>\n",
       "      <td>-0.090163</td>\n",
       "      <td>0.069458</td>\n",
       "      <td>-0.039620</td>\n",
       "      <td>0.056452</td>\n",
       "      <td>-0.016933</td>\n",
       "      <td>-0.016933</td>\n",
       "      <td>0.056452</td>\n",
       "    </tr>\n",
       "    <tr>\n",
       "      <th>...</th>\n",
       "      <td>...</td>\n",
       "      <td>...</td>\n",
       "      <td>...</td>\n",
       "      <td>...</td>\n",
       "      <td>...</td>\n",
       "      <td>...</td>\n",
       "      <td>...</td>\n",
       "      <td>...</td>\n",
       "      <td>...</td>\n",
       "      <td>...</td>\n",
       "      <td>...</td>\n",
       "      <td>...</td>\n",
       "      <td>...</td>\n",
       "      <td>...</td>\n",
       "      <td>...</td>\n",
       "      <td>...</td>\n",
       "      <td>...</td>\n",
       "      <td>...</td>\n",
       "      <td>...</td>\n",
       "      <td>...</td>\n",
       "      <td>...</td>\n",
       "    </tr>\n",
       "    <tr>\n",
       "      <th>fft_745_b</th>\n",
       "      <td>0.268983</td>\n",
       "      <td>0.153244</td>\n",
       "      <td>0.674195</td>\n",
       "      <td>0.103294</td>\n",
       "      <td>-0.039620</td>\n",
       "      <td>0.024944</td>\n",
       "      <td>-0.043387</td>\n",
       "      <td>0.098389</td>\n",
       "      <td>-0.022019</td>\n",
       "      <td>-0.003329</td>\n",
       "      <td>...</td>\n",
       "      <td>0.458558</td>\n",
       "      <td>-0.431711</td>\n",
       "      <td>0.415781</td>\n",
       "      <td>0.415781</td>\n",
       "      <td>-0.431711</td>\n",
       "      <td>1.000000</td>\n",
       "      <td>-0.938696</td>\n",
       "      <td>0.834622</td>\n",
       "      <td>0.834622</td>\n",
       "      <td>-0.938696</td>\n",
       "    </tr>\n",
       "    <tr>\n",
       "      <th>fft_746_b</th>\n",
       "      <td>-0.220566</td>\n",
       "      <td>-0.096173</td>\n",
       "      <td>-0.728296</td>\n",
       "      <td>-0.061376</td>\n",
       "      <td>0.056452</td>\n",
       "      <td>0.002976</td>\n",
       "      <td>-0.001477</td>\n",
       "      <td>-0.061713</td>\n",
       "      <td>0.005671</td>\n",
       "      <td>-0.005395</td>\n",
       "      <td>...</td>\n",
       "      <td>-0.493145</td>\n",
       "      <td>0.531019</td>\n",
       "      <td>-0.459876</td>\n",
       "      <td>-0.459876</td>\n",
       "      <td>0.531019</td>\n",
       "      <td>-0.938696</td>\n",
       "      <td>1.000000</td>\n",
       "      <td>-0.815108</td>\n",
       "      <td>-0.815108</td>\n",
       "      <td>1.000000</td>\n",
       "    </tr>\n",
       "    <tr>\n",
       "      <th>fft_747_b</th>\n",
       "      <td>0.196653</td>\n",
       "      <td>0.069532</td>\n",
       "      <td>0.565044</td>\n",
       "      <td>0.051216</td>\n",
       "      <td>-0.016933</td>\n",
       "      <td>-0.017169</td>\n",
       "      <td>0.003350</td>\n",
       "      <td>0.149472</td>\n",
       "      <td>-0.040408</td>\n",
       "      <td>0.003422</td>\n",
       "      <td>...</td>\n",
       "      <td>0.375438</td>\n",
       "      <td>-0.355117</td>\n",
       "      <td>0.499272</td>\n",
       "      <td>0.499272</td>\n",
       "      <td>-0.355117</td>\n",
       "      <td>0.834622</td>\n",
       "      <td>-0.815108</td>\n",
       "      <td>1.000000</td>\n",
       "      <td>1.000000</td>\n",
       "      <td>-0.815108</td>\n",
       "    </tr>\n",
       "    <tr>\n",
       "      <th>fft_748_b</th>\n",
       "      <td>0.196653</td>\n",
       "      <td>0.069532</td>\n",
       "      <td>0.565044</td>\n",
       "      <td>0.051216</td>\n",
       "      <td>-0.016933</td>\n",
       "      <td>-0.017169</td>\n",
       "      <td>0.003350</td>\n",
       "      <td>0.149472</td>\n",
       "      <td>-0.040408</td>\n",
       "      <td>0.003422</td>\n",
       "      <td>...</td>\n",
       "      <td>0.375438</td>\n",
       "      <td>-0.355117</td>\n",
       "      <td>0.499272</td>\n",
       "      <td>0.499272</td>\n",
       "      <td>-0.355117</td>\n",
       "      <td>0.834622</td>\n",
       "      <td>-0.815108</td>\n",
       "      <td>1.000000</td>\n",
       "      <td>1.000000</td>\n",
       "      <td>-0.815108</td>\n",
       "    </tr>\n",
       "    <tr>\n",
       "      <th>fft_749_b</th>\n",
       "      <td>-0.220566</td>\n",
       "      <td>-0.096173</td>\n",
       "      <td>-0.728296</td>\n",
       "      <td>-0.061376</td>\n",
       "      <td>0.056452</td>\n",
       "      <td>0.002976</td>\n",
       "      <td>-0.001477</td>\n",
       "      <td>-0.061713</td>\n",
       "      <td>0.005671</td>\n",
       "      <td>-0.005395</td>\n",
       "      <td>...</td>\n",
       "      <td>-0.493145</td>\n",
       "      <td>0.531019</td>\n",
       "      <td>-0.459876</td>\n",
       "      <td>-0.459876</td>\n",
       "      <td>0.531019</td>\n",
       "      <td>-0.938696</td>\n",
       "      <td>1.000000</td>\n",
       "      <td>-0.815108</td>\n",
       "      <td>-0.815108</td>\n",
       "      <td>1.000000</td>\n",
       "    </tr>\n",
       "  </tbody>\n",
       "</table>\n",
       "<p>2548 rows × 2548 columns</p>\n",
       "</div>"
      ],
      "text/plain": [
       "            # mean_0_a  mean_1_a  mean_2_a  mean_3_a  mean_4_a  mean_d_0_a  \\\n",
       "# mean_0_a    1.000000  0.176578  0.429810  0.582697  0.178432   -0.000665   \n",
       "mean_1_a      0.176578  1.000000 -0.007202  0.571530  0.385041   -0.088608   \n",
       "mean_2_a      0.429810 -0.007202  1.000000  0.081567 -0.095696    0.015122   \n",
       "mean_3_a      0.582697  0.571530  0.081567  1.000000  0.220842   -0.117748   \n",
       "mean_4_a      0.178432  0.385041 -0.095696  0.220842  1.000000   -0.017196   \n",
       "...                ...       ...       ...       ...       ...         ...   \n",
       "fft_745_b     0.268983  0.153244  0.674195  0.103294 -0.039620    0.024944   \n",
       "fft_746_b    -0.220566 -0.096173 -0.728296 -0.061376  0.056452    0.002976   \n",
       "fft_747_b     0.196653  0.069532  0.565044  0.051216 -0.016933   -0.017169   \n",
       "fft_748_b     0.196653  0.069532  0.565044  0.051216 -0.016933   -0.017169   \n",
       "fft_749_b    -0.220566 -0.096173 -0.728296 -0.061376  0.056452    0.002976   \n",
       "\n",
       "            mean_d_1_a  mean_d_2_a  mean_d_3_a  mean_d_4_a  ...  fft_740_b  \\\n",
       "# mean_0_a    0.105961   -0.061046    0.135370    0.008472  ...   0.301672   \n",
       "mean_1_a     -0.007586   -0.050463   -0.119391   -0.017197  ...   0.130717   \n",
       "mean_2_a      0.014605   -0.004320    0.055625   -0.003564  ...   0.699461   \n",
       "mean_3_a      0.124462   -0.175592   -0.001782    0.017110  ...   0.133720   \n",
       "mean_4_a     -0.007570    0.025546   -0.033443   -0.020361  ...  -0.043602   \n",
       "...                ...         ...         ...         ...  ...        ...   \n",
       "fft_745_b    -0.043387    0.098389   -0.022019   -0.003329  ...   0.458558   \n",
       "fft_746_b    -0.001477   -0.061713    0.005671   -0.005395  ...  -0.493145   \n",
       "fft_747_b     0.003350    0.149472   -0.040408    0.003422  ...   0.375438   \n",
       "fft_748_b     0.003350    0.149472   -0.040408    0.003422  ...   0.375438   \n",
       "fft_749_b    -0.001477   -0.061713    0.005671   -0.005395  ...  -0.493145   \n",
       "\n",
       "            fft_741_b  fft_742_b  fft_743_b  fft_744_b  fft_745_b  fft_746_b  \\\n",
       "# mean_0_a  -0.245671   0.204764   0.204764  -0.245671   0.268983  -0.220566   \n",
       "mean_1_a    -0.047208   0.002549   0.002549  -0.047208   0.153244  -0.096173   \n",
       "mean_2_a    -0.742275   0.622567   0.622567  -0.742275   0.674195  -0.728296   \n",
       "mean_3_a    -0.067460   0.048202   0.048202  -0.067460   0.103294  -0.061376   \n",
       "mean_4_a     0.069458  -0.090163  -0.090163   0.069458  -0.039620   0.056452   \n",
       "...               ...        ...        ...        ...        ...        ...   \n",
       "fft_745_b   -0.431711   0.415781   0.415781  -0.431711   1.000000  -0.938696   \n",
       "fft_746_b    0.531019  -0.459876  -0.459876   0.531019  -0.938696   1.000000   \n",
       "fft_747_b   -0.355117   0.499272   0.499272  -0.355117   0.834622  -0.815108   \n",
       "fft_748_b   -0.355117   0.499272   0.499272  -0.355117   0.834622  -0.815108   \n",
       "fft_749_b    0.531019  -0.459876  -0.459876   0.531019  -0.938696   1.000000   \n",
       "\n",
       "            fft_747_b  fft_748_b  fft_749_b  \n",
       "# mean_0_a   0.196653   0.196653  -0.220566  \n",
       "mean_1_a     0.069532   0.069532  -0.096173  \n",
       "mean_2_a     0.565044   0.565044  -0.728296  \n",
       "mean_3_a     0.051216   0.051216  -0.061376  \n",
       "mean_4_a    -0.016933  -0.016933   0.056452  \n",
       "...               ...        ...        ...  \n",
       "fft_745_b    0.834622   0.834622  -0.938696  \n",
       "fft_746_b   -0.815108  -0.815108   1.000000  \n",
       "fft_747_b    1.000000   1.000000  -0.815108  \n",
       "fft_748_b    1.000000   1.000000  -0.815108  \n",
       "fft_749_b   -0.815108  -0.815108   1.000000  \n",
       "\n",
       "[2548 rows x 2548 columns]"
      ]
     },
     "execution_count": 12,
     "metadata": {},
     "output_type": "execute_result"
    }
   ],
   "source": [
    "correlations = brainwave_df.corr(method='pearson')\n",
    "correlations"
   ]
  },
  {
   "cell_type": "markdown",
   "metadata": {},
   "source": [
    "<h2 style=\"text-align:center; color:#546545;text-shadow: 2px 2px 4px #000000;\">Skew of Univariate Distributions</h2>"
   ]
  },
  {
   "cell_type": "code",
   "execution_count": 11,
   "metadata": {
    "execution": {
     "iopub.execute_input": "2022-02-08T04:40:48.18457Z",
     "iopub.status.busy": "2022-02-08T04:40:48.18426Z",
     "iopub.status.idle": "2022-02-08T04:40:48.523147Z",
     "shell.execute_reply": "2022-02-08T04:40:48.522097Z",
     "shell.execute_reply.started": "2022-02-08T04:40:48.18452Z"
    }
   },
   "outputs": [
    {
     "data": {
      "text/plain": [
       "# mean_0_a      3.839961\n",
       "mean_1_a       -5.400903\n",
       "mean_2_a       -1.769376\n",
       "mean_3_a        0.293842\n",
       "mean_4_a       -3.911369\n",
       "mean_d_0_a      5.037609\n",
       "mean_d_1_a      0.259055\n",
       "mean_d_2_a     -2.678249\n",
       "mean_d_3_a      4.729592\n",
       "mean_d_4_a     -5.799641\n",
       "mean_d_0_a2    -1.280704\n",
       "mean_d_1_a2   -12.338497\n",
       "mean_d_2_a2    -1.557033\n",
       "mean_d_3_a2    -1.505519\n",
       "mean_d_4_a2   -19.863973\n",
       "mean_d_5_a      9.340996\n",
       "mean_d_6_a     -6.490151\n",
       "mean_d_7_a     -1.619659\n",
       "mean_d_8_a      3.061302\n",
       "mean_d_9_a      8.191188\n",
       "mean_d_10_a    -1.296867\n",
       "mean_d_11_a   -12.576537\n",
       "mean_d_12_a    -1.558395\n",
       "mean_d_13_a    -1.506060\n",
       "mean_d_14_a   -20.465480\n",
       "mean_d_15_a     9.316563\n",
       "mean_d_16_a    -6.483794\n",
       "mean_d_17_a    -1.626358\n",
       "mean_d_18_a     3.039943\n",
       "mean_d_19_a     9.258123\n",
       "                 ...    \n",
       "fft_720_b      -1.165149\n",
       "fft_721_b       1.289832\n",
       "fft_722_b       0.751271\n",
       "fft_723_b       0.751271\n",
       "fft_724_b       1.289832\n",
       "fft_725_b      -1.271173\n",
       "fft_726_b       1.322905\n",
       "fft_727_b       0.663377\n",
       "fft_728_b       0.663377\n",
       "fft_729_b       1.322905\n",
       "fft_730_b      -1.380513\n",
       "fft_731_b       1.556599\n",
       "fft_732_b       0.843059\n",
       "fft_733_b       0.843059\n",
       "fft_734_b       1.556599\n",
       "fft_735_b      -1.184375\n",
       "fft_736_b       1.228086\n",
       "fft_737_b       1.093596\n",
       "fft_738_b       1.093596\n",
       "fft_739_b       1.228086\n",
       "fft_740_b      -1.301607\n",
       "fft_741_b       1.277073\n",
       "fft_742_b       0.251050\n",
       "fft_743_b       0.251050\n",
       "fft_744_b       1.277073\n",
       "fft_745_b      -1.328085\n",
       "fft_746_b       1.443938\n",
       "fft_747_b       1.221094\n",
       "fft_748_b       1.221094\n",
       "fft_749_b       1.443938\n",
       "Length: 2548, dtype: float64"
      ]
     },
     "execution_count": 11,
     "metadata": {},
     "output_type": "execute_result"
    }
   ],
   "source": [
    "skew = brainwave_df.skew()\n",
    "skew"
   ]
  },
  {
   "cell_type": "markdown",
   "metadata": {},
   "source": [
    "<h2 style=\"text-align:center; color:#546545;text-shadow: 2px 2px 4px #000000;\">RandomForest Classifier</h2>\n",
    "\n",
    "`RandomForest` is a tree & bagging approach-based ensemble classifier. It will automatically reduce the number of features by its probabilistic entropy calculation approach."
   ]
  },
  {
   "cell_type": "code",
   "execution_count": 14,
   "metadata": {
    "execution": {
     "iopub.execute_input": "2022-02-08T04:40:48.524742Z",
     "iopub.status.busy": "2022-02-08T04:40:48.524483Z",
     "iopub.status.idle": "2022-02-08T04:40:53.568895Z",
     "shell.execute_reply": "2022-02-08T04:40:53.567545Z",
     "shell.execute_reply.started": "2022-02-08T04:40:48.524697Z"
    }
   },
   "outputs": [
    {
     "name": "stdout",
     "output_type": "stream",
     "text": [
      "Accuracy for RandomForest :  0.9868698170330393\n",
      "Wall time: 36.3 s\n"
     ]
    }
   ],
   "source": [
    "%%time\n",
    "\n",
    "pl_random_forest = Pipeline(steps=[('random_forest', RandomForestClassifier())])\n",
    "rf_scores = cross_val_score(pl_random_forest, brainwave_df, label_df, cv=10,scoring='accuracy')\n",
    "print('Accuracy for RandomForest : ', rf_scores.mean())"
   ]
  },
  {
   "cell_type": "markdown",
   "metadata": {},
   "source": [
    "<h2 style=\"text-align:center; color:#546545;text-shadow: 2px 2px 4px #000000;\">Logistic Regression Classifier</h2>\n",
    "\n",
    "`Logistic Regression` is a linear classifier and works in same way as linear regression."
   ]
  },
  {
   "cell_type": "code",
   "execution_count": 16,
   "metadata": {
    "execution": {
     "iopub.execute_input": "2022-02-08T04:40:53.570999Z",
     "iopub.status.busy": "2022-02-08T04:40:53.570601Z",
     "iopub.status.idle": "2022-02-08T04:44:06.853726Z",
     "shell.execute_reply": "2022-02-08T04:44:06.851744Z",
     "shell.execute_reply.started": "2022-02-08T04:40:53.570909Z"
    },
    "scrolled": true
   },
   "outputs": [
    {
     "name": "stderr",
     "output_type": "stream",
     "text": [
      "C:\\ProgramData\\Anaconda3\\lib\\site-packages\\sklearn\\linear_model\\_sag.py:328: ConvergenceWarning: The max_iter was reached which means the coef_ did not converge\n",
      "  warnings.warn(\"The max_iter was reached which means \"\n",
      "C:\\ProgramData\\Anaconda3\\lib\\site-packages\\sklearn\\linear_model\\_sag.py:328: ConvergenceWarning: The max_iter was reached which means the coef_ did not converge\n",
      "  warnings.warn(\"The max_iter was reached which means \"\n",
      "C:\\ProgramData\\Anaconda3\\lib\\site-packages\\sklearn\\linear_model\\_sag.py:328: ConvergenceWarning: The max_iter was reached which means the coef_ did not converge\n",
      "  warnings.warn(\"The max_iter was reached which means \"\n",
      "C:\\ProgramData\\Anaconda3\\lib\\site-packages\\sklearn\\linear_model\\_sag.py:328: ConvergenceWarning: The max_iter was reached which means the coef_ did not converge\n",
      "  warnings.warn(\"The max_iter was reached which means \"\n"
     ]
    }
   ],
   "source": [
    "%%time\n",
    "\n",
    "pl_log_reg = Pipeline(steps=[('scaler',StandardScaler()),\n",
    "                             ('log_reg', LogisticRegression(multi_class='multinomial', solver='saga', max_iter=200))])\n",
    "scores = cross_val_score(pl_log_reg, brainwave_df, label_df, cv=10,scoring='accuracy')\n",
    "print('Accuracy for Logistic Regression: ', scores.mean())"
   ]
  },
  {
   "cell_type": "markdown",
   "metadata": {},
   "source": [
    "<h2 style=\"text-align:center; color:#546545;text-shadow: 2px 2px 4px #000000;\">Principal Component Analysis (PCA)</h2>\n",
    "\n",
    "PCA can transform original low level variables to a higher dimensional space and thus reduce the number of required variables. All co-linear variables get clubbed together. "
   ]
  },
  {
   "cell_type": "code",
   "execution_count": 14,
   "metadata": {
    "execution": {
     "iopub.execute_input": "2022-02-08T04:44:06.856761Z",
     "iopub.status.busy": "2022-02-08T04:44:06.855943Z",
     "iopub.status.idle": "2022-02-08T04:44:07.885771Z",
     "shell.execute_reply": "2022-02-08T04:44:07.884749Z",
     "shell.execute_reply.started": "2022-02-08T04:44:06.856323Z"
    }
   },
   "outputs": [
    {
     "name": "stdout",
     "output_type": "stream",
     "text": [
      "Explained Variance ratio by Principal Component  1  :  0.36772564117538725\n",
      "Explained Variance ratio by Principal Component  2  :  0.09553894257232638\n",
      "Explained Variance ratio by Principal Component  3  :  0.0843606900048248\n",
      "Explained Variance ratio by Principal Component  4  :  0.060856651819701776\n",
      "Explained Variance ratio by Principal Component  5  :  0.04745373292625154\n",
      "Explained Variance ratio by Principal Component  6  :  0.030823052518471516\n",
      "Explained Variance ratio by Principal Component  7  :  0.02472162086092123\n",
      "Explained Variance ratio by Principal Component  8  :  0.013753055070672945\n",
      "Explained Variance ratio by Principal Component  9  :  0.012408702720537951\n",
      "Explained Variance ratio by Principal Component  10  :  0.012103653571811866\n",
      "Explained Variance ratio by Principal Component  11  :  0.009557100569534922\n",
      "Explained Variance ratio by Principal Component  12  :  0.009164311002983814\n",
      "Explained Variance ratio by Principal Component  13  :  0.008740057333153401\n",
      "Explained Variance ratio by Principal Component  14  :  0.007974361915574203\n",
      "Explained Variance ratio by Principal Component  15  :  0.007059812811290299\n",
      "Explained Variance ratio by Principal Component  16  :  0.006330677283201285\n",
      "Explained Variance ratio by Principal Component  17  :  0.005871863956526457\n",
      "Explained Variance ratio by Principal Component  18  :  0.0054743179210659425\n",
      "Explained Variance ratio by Principal Component  19  :  0.005017991938300643\n",
      "Explained Variance ratio by Principal Component  20  :  0.004659528482105006\n"
     ]
    }
   ],
   "source": [
    "scaler = StandardScaler()\n",
    "scaled_df = scaler.fit_transform(brainwave_df)\n",
    "pca = PCA(n_components = 20)\n",
    "pca_vectors = pca.fit_transform(scaled_df)\n",
    "for index, var in enumerate(pca.explained_variance_ratio_):\n",
    "    print(\"Explained Variance ratio by Principal Component \", (index+1), \" : \", var)\n"
   ]
  },
  {
   "cell_type": "code",
   "execution_count": 15,
   "metadata": {
    "execution": {
     "iopub.execute_input": "2022-02-08T04:44:07.891744Z",
     "iopub.status.busy": "2022-02-08T04:44:07.891394Z",
     "iopub.status.idle": "2022-02-08T04:44:08.856756Z",
     "shell.execute_reply": "2022-02-08T04:44:08.855692Z",
     "shell.execute_reply.started": "2022-02-08T04:44:07.89169Z"
    }
   },
   "outputs": [
    {
     "data": {
      "image/png": "[encoded data removed]",
      "text/plain": [
       "<Figure size 1800x576 with 1 Axes>"
      ]
     },
     "metadata": {},
     "output_type": "display_data"
    }
   ],
   "source": [
    "plt.figure(figsize=(25,8))\n",
    "sns.scatterplot(x=pca_vectors[:, 0], y=pca_vectors[:, 1], hue=label_df)\n",
    "plt.title('Principal Components vs Class distribution', fontsize=16)\n",
    "plt.ylabel('Principal Component 2', fontsize=16)\n",
    "plt.xlabel('Principal Component 1', fontsize=16)\n",
    "plt.xticks(rotation='vertical');"
   ]
  },
  {
   "cell_type": "markdown",
   "metadata": {},
   "source": [
    "<h2 style=\"text-align:center; color:#546545;text-shadow: 2px 2px 4px #000000;\">Logistic Regression classifier with these two PCs</h2>"
   ]
  },
  {
   "cell_type": "code",
   "execution_count": 16,
   "metadata": {
    "execution": {
     "iopub.execute_input": "2022-02-08T04:44:08.858748Z",
     "iopub.status.busy": "2022-02-08T04:44:08.858456Z",
     "iopub.status.idle": "2022-02-08T04:44:16.137072Z",
     "shell.execute_reply": "2022-02-08T04:44:16.134059Z",
     "shell.execute_reply.started": "2022-02-08T04:44:08.858694Z"
    }
   },
   "outputs": [
    {
     "name": "stdout",
     "output_type": "stream",
     "text": [
      "Accuracy for Logistic Regression with 2 Principal Components:  0.7752487834538495\n",
      "CPU times: user 12.7 s, sys: 7.11 s, total: 19.9 s\n",
      "Wall time: 7.87 s\n"
     ]
    }
   ],
   "source": [
    "%%time\n",
    "pl_log_reg_pca = Pipeline(steps=[('scaler',StandardScaler()),\n",
    "                             ('pca', PCA(n_components = 2)),\n",
    "                             ('log_reg', LogisticRegression(multi_class='multinomial', solver='saga', max_iter=200))])\n",
    "scores = cross_val_score(pl_log_reg_pca, brainwave_df, label_df, cv=10,scoring='accuracy')\n",
    "print('Accuracy for Logistic Regression with 2 Principal Components: ', scores.mean())"
   ]
  },
  {
   "cell_type": "markdown",
   "metadata": {},
   "source": [
    "<h2 style=\"text-align:center; color:#546545;text-shadow: 2px 2px 4px #000000;\">Take all 10 PCs</h2>"
   ]
  },
  {
   "cell_type": "code",
   "execution_count": 17,
   "metadata": {
    "execution": {
     "iopub.execute_input": "2022-02-08T04:44:16.139202Z",
     "iopub.status.busy": "2022-02-08T04:44:16.138817Z",
     "iopub.status.idle": "2022-02-08T04:44:24.828283Z",
     "shell.execute_reply": "2022-02-08T04:44:24.82712Z",
     "shell.execute_reply.started": "2022-02-08T04:44:16.139128Z"
    }
   },
   "outputs": [
    {
     "name": "stdout",
     "output_type": "stream",
     "text": [
      "Accuracy for Logistic Regression with 10 Principal Components:  0.865842673825059\n",
      "CPU times: user 14.3 s, sys: 7.36 s, total: 21.7 s\n",
      "Wall time: 8.89 s\n"
     ]
    }
   ],
   "source": [
    "%%time\n",
    "\n",
    "pl_log_reg_pca_10 = Pipeline(steps=[('scaler',StandardScaler()),\n",
    "                             ('pca', PCA(n_components = 10)),\n",
    "                             ('log_reg', LogisticRegression(multi_class='multinomial', solver='saga', max_iter=200))])\n",
    "scores = cross_val_score(pl_log_reg_pca_10, brainwave_df, label_df, cv=10,scoring='accuracy')\n",
    "print('Accuracy for Logistic Regression with 10 Principal Components: ', scores.mean())"
   ]
  },
  {
   "cell_type": "markdown",
   "metadata": {},
   "source": [
    "<h2 style=\"text-align:center; color:#546545;text-shadow: 2px 2px 4px #000000;\">Artificial Neural Network Classifier (ANN)</h2>\n",
    "\n",
    "An ANN classifier is non-linear with automatic feature engineering and dimensional reduction techniques. `MLPClassifier` in scikit-learn works as an ANN. But here also, basic scaling is required for the data.[](http://)"
   ]
  },
  {
   "cell_type": "code",
   "execution_count": 18,
   "metadata": {
    "execution": {
     "iopub.execute_input": "2022-02-08T04:44:24.838178Z",
     "iopub.status.busy": "2022-02-08T04:44:24.834978Z",
     "iopub.status.idle": "2022-02-08T04:55:40.729073Z",
     "shell.execute_reply": "2022-02-08T04:55:40.727695Z",
     "shell.execute_reply.started": "2022-02-08T04:44:24.838068Z"
    }
   },
   "outputs": [
    {
     "name": "stdout",
     "output_type": "stream",
     "text": [
      "Accuracy for ANN :  0.9765360422266959\n",
      "CPU times: user 27min 34s, sys: 14min 56s, total: 42min 30s\n",
      "Wall time: 12min 11s\n"
     ]
    }
   ],
   "source": [
    "%%time\n",
    "\n",
    "pl_mlp = Pipeline(steps=[('scaler',StandardScaler()),\n",
    "                             ('mlp_ann', MLPClassifier(hidden_layer_sizes=(1275, 637)))])\n",
    "scores = cross_val_score(pl_mlp, brainwave_df, label_df, cv=10,scoring='accuracy')\n",
    "print('Accuracy for ANN : ', scores.mean())"
   ]
  },
  {
   "cell_type": "markdown",
   "metadata": {},
   "source": [
    "<h2 style=\"text-align:center; color:#546545;text-shadow: 2px 2px 4px #000000;\">Linear Support Vector Machines Classifier (SVM)</h2>"
   ]
  },
  {
   "cell_type": "code",
   "execution_count": 19,
   "metadata": {
    "execution": {
     "iopub.execute_input": "2022-02-08T04:55:40.73162Z",
     "iopub.status.busy": "2022-02-08T04:55:40.731141Z",
     "iopub.status.idle": "2022-02-08T04:57:16.203989Z",
     "shell.execute_reply": "2022-02-08T04:57:16.202972Z",
     "shell.execute_reply.started": "2022-02-08T04:55:40.731543Z"
    }
   },
   "outputs": [
    {
     "name": "stdout",
     "output_type": "stream",
     "text": [
      "Accuracy for Linear SVM :  0.9643467083227542\n",
      "CPU times: user 1min 35s, sys: 4.41 s, total: 1min 39s\n",
      "Wall time: 1min 36s\n"
     ]
    }
   ],
   "source": [
    "%%time\n",
    "\n",
    "pl_svm = Pipeline(steps=[('scaler',StandardScaler()),\n",
    "                             ('pl_svm', LinearSVC())])\n",
    "scores = cross_val_score(pl_svm, brainwave_df, label_df, cv=10,scoring='accuracy')\n",
    "print('Accuracy for Linear SVM : ', scores.mean())"
   ]
  },
  {
   "cell_type": "markdown",
   "metadata": {},
   "source": [
    "<h2 style=\"text-align:center; color:#546545;text-shadow: 2px 2px 4px #000000;\">Extreme Gradient Boosting Classifier (XGBoost)</h2>\n",
    "\n",
    "XGBoost is a boosted tree based ensemble classifier. Like ‘RandomForest’, it will also automatically reduce the feature set. "
   ]
  },
  {
   "cell_type": "code",
   "execution_count": 20,
   "metadata": {
    "execution": {
     "iopub.execute_input": "2022-02-08T04:57:16.206772Z",
     "iopub.status.busy": "2022-02-08T04:57:16.205911Z"
    }
   },
   "outputs": [
    {
     "name": "stdout",
     "output_type": "stream",
     "text": [
      "Accuracy for XGBoost Classifier :  0.9943615599489364\n",
      "CPU times: user 14min 12s, sys: 2.44 s, total: 14min 14s\n",
      "Wall time: 14min 14s\n"
     ]
    }
   ],
   "source": [
    "%%time\n",
    "pl_xgb = Pipeline(steps=\n",
    "                  [('xgboost', xgb.XGBClassifier(objective='multi:softmax'))])\n",
    "scores = cross_val_score(pl_xgb, brainwave_df, label_df, cv=10)\n",
    "print('Accuracy for XGBoost Classifier : ', scores.mean())"
   ]
  }
 ],
 "metadata": {
  "kernelspec": {
   "display_name": "Python 3 (ipykernel)",
   "language": "python",
   "name": "python3"
  },
  "language_info": {
   "codemirror_mode": {
    "name": "ipython",
    "version": 3
   },
   "file_extension": ".py",
   "mimetype": "text/x-python",
   "name": "python",
   "nbconvert_exporter": "python",
   "pygments_lexer": "ipython3",
   "version": "3.9.7"
  }
 },
 "nbformat": 4,
 "nbformat_minor": 4
}
