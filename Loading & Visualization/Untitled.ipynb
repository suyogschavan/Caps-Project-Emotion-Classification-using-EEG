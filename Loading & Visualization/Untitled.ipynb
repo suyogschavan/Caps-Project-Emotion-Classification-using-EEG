{
 "cells": [
  {
   "cell_type": "code",
   "execution_count": null,
   "id": "713a69e2",
   "metadata": {},
   "outputs": [],
   "source": [
    "import mne"
   ]
  },
  {
   "cell_type": "code",
   "execution_count": null,
   "id": "4d4ccb91",
   "metadata": {},
   "outputs": [],
   "source": []
  }
 ],
 "metadata": {
  "kernelspec": {
   "display_name": "Python 3 (ipykernel)",
   "language": "python",
   "name": "python3"
  }
 },
 "nbformat": 4,
 "nbformat_minor": 5
}
